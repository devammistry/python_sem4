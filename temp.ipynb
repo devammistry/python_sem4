{
 "cells": [
  {
   "cell_type": "code",
   "execution_count": 1,
   "id": "36657ad0",
   "metadata": {},
   "outputs": [
    {
     "name": "stdout",
     "output_type": "stream",
     "text": [
      "[1, 2]\n"
     ]
    }
   ],
   "source": [
    "# Remove duplicates from a list\n",
    "l=[1,2,2,1]\n",
    "l=list(set(l))\n",
    "print(l)"
   ]
  },
  {
   "cell_type": "code",
   "execution_count": 5,
   "id": "abd28ca5",
   "metadata": {},
   "outputs": [
    {
     "name": "stdout",
     "output_type": "stream",
     "text": [
      "[1, 2, 3, 4, 5, 6, 7, 8]\n"
     ]
    }
   ],
   "source": [
    "# Merge two sorted lists\n",
    "l1,l2=[1,2,3,4],[5,6,7,8]\n",
    "if l1<l2:\n",
    "    l1.extend(l2)\n",
    "    l=l1\n",
    "else:\n",
    "    l2.extend(l1)\n",
    "    l=l2\n",
    "print(l)\n"
   ]
  },
  {
   "cell_type": "code",
   "execution_count": null,
   "id": "18c482e4",
   "metadata": {},
   "outputs": [
    {
     "name": "stdout",
     "output_type": "stream",
     "text": [
      "[1, 1, 0, 0, 1, 1, 1, 0, 1, 0, 1]\n",
      "<class 'str'>\n"
     ]
    }
   ],
   "source": [
    "l=[1,1,0,0,1,1,1,0,1,0,1]\n",
    "s=str(l)"
   ]
  },
  {
   "cell_type": "code",
   "execution_count": 14,
   "id": "34b8439a",
   "metadata": {},
   "outputs": [
    {
     "name": "stdout",
     "output_type": "stream",
     "text": [
      "[7, 8, 9, 4, 3, 2, 5, 6]\n"
     ]
    }
   ],
   "source": [
    "# Rotate a list by k elements\n",
    "l=[5,6,7,8,9,4,3,2]\n",
    "k=int(input(\"Enter k:\"))\n",
    "l=l[k:]+l[:k]\n",
    "print(l)"
   ]
  },
  {
   "cell_type": "code",
   "execution_count": 23,
   "id": "a2234840",
   "metadata": {},
   "outputs": [
    {
     "name": "stdout",
     "output_type": "stream",
     "text": [
      "[(3, 4), (4, 3), (6, 1), (1, 6), (2, 5)]\n"
     ]
    }
   ],
   "source": [
    "l = [1, 2, 3, 4, 5, 6]\n",
    "k = 7\n",
    "ans=list()\n",
    "for i in l:\n",
    "    s=k-i\n",
    "    if s in l:\n",
    "        ans.append((i,s))\n",
    "for i in ans:\n",
    "    tl=list(i)\n",
    "    tl.sort()\n",
    "    new=tuple(tl)\n",
    "    ans.remove(i)\n",
    "    ans.append(new)\n",
    "ans=list(set(ans))\n",
    "print(ans)"
   ]
  },
  {
   "cell_type": "code",
   "execution_count": 16,
   "id": "d6cb3cfd",
   "metadata": {},
   "outputs": [
    {
     "name": "stdout",
     "output_type": "stream",
     "text": [
      "[(6, 1), (5, 2), (4, 3)]\n"
     ]
    }
   ],
   "source": [
    "l = [1, 2, 3, 4, 5, 6]\n",
    "target = 7\n",
    "seen = set()\n",
    "ans = set()\n",
    "\n",
    "for num in l:\n",
    "    k = target - num\n",
    "    if k in seen:\n",
    "        ans.add(tuple((num, k)))\n",
    "    seen.add(num)\n",
    "\n",
    "print(list(ans))\n"
   ]
  },
  {
   "cell_type": "code",
   "execution_count": 9,
   "id": "7c3baabd",
   "metadata": {},
   "outputs": [
    {
     "name": "stdout",
     "output_type": "stream",
     "text": [
      "[1, 4, 5, 2, 0, 0]\n"
     ]
    }
   ],
   "source": [
    "\n",
    "\n",
    "nums=[0, 1, 4, 0, 5, 2]\n",
    "count=0\n",
    "for i in range(len(nums)):\n",
    "    if nums[i]==0:\n",
    "        count+=1\n",
    "        del nums[i]\n",
    "        nums.append(0)\n",
    "print(nums)\n",
    "# zero=[0]\n",
    "# zero=zero*count\n",
    "# nums.extend(zero)\n",
    "# print(nums)\n",
    "    "
   ]
  },
  {
   "cell_type": "code",
   "execution_count": 4,
   "id": "f587a6af",
   "metadata": {},
   "outputs": [
    {
     "name": "stdout",
     "output_type": "stream",
     "text": [
      "[0, 0, 0]\n"
     ]
    }
   ],
   "source": [
    "count=3\n",
    "zero=[0]\n",
    "zero=zero*count\n",
    "print(zero)"
   ]
  },
  {
   "cell_type": "code",
   "execution_count": 10,
   "id": "bbbd9324",
   "metadata": {},
   "outputs": [
    {
     "name": "stdout",
     "output_type": "stream",
     "text": [
      "[1, 4, 5, 2, 0, 0]\n"
     ]
    }
   ],
   "source": [
    "class Solution:\n",
    "    def moveZeroes(self, nums):\n",
    "        for i in range(len(nums)):\n",
    "            if nums[i]==0:\n",
    "                del nums[i]\n",
    "                nums.append(0)\n",
    "        return nums\n",
    "print(Solution().moveZeroes([0, 1, 4, 0, 5, 2]))"
   ]
  },
  {
   "cell_type": "code",
   "execution_count": 13,
   "id": "93fb5c70",
   "metadata": {},
   "outputs": [
    {
     "name": "stdout",
     "output_type": "stream",
     "text": [
      "[1, 2, 3, None, None, None, None]\n"
     ]
    }
   ],
   "source": [
    "l=[1,1,2,2,2,3,3]\n",
    "l1=list(set(l))\n",
    "NoneList=[None]*(len(l)-len(l1))\n",
    "l1.extend(NoneList)\n",
    "print(l1)"
   ]
  },
  {
   "cell_type": "code",
   "execution_count": 14,
   "id": "1e606581",
   "metadata": {},
   "outputs": [
    {
     "name": "stdout",
     "output_type": "stream",
     "text": [
      "4\n"
     ]
    }
   ],
   "source": [
    "n=5\n",
    "l=[1,2,3,5]\n",
    "rem=None\n",
    "for i in range(n):\n",
    "    if i not in l:\n",
    "        rem=i\n",
    "print(rem)"
   ]
  },
  {
   "cell_type": "code",
   "execution_count": 15,
   "id": "04feee6c",
   "metadata": {},
   "outputs": [
    {
     "name": "stdout",
     "output_type": "stream",
     "text": [
      "[1, 2, 3, 4, 5, 6]\n"
     ]
    }
   ],
   "source": [
    "l1=[1,2,3,4,5]\n",
    "l2=[2,3,4,5,6]\n",
    "if l1<l2:\n",
    "    l1.extend(l2)\n",
    "    l1=list(set(l1))\n",
    "    print(l1)\n",
    "else:\n",
    "    l2.extend(l1)\n",
    "    l2=list(set(l2))\n",
    "    print(l2)\n"
   ]
  },
  {
   "cell_type": "code",
   "execution_count": 26,
   "id": "2efd3e08",
   "metadata": {},
   "outputs": [
    {
     "name": "stdout",
     "output_type": "stream",
     "text": [
      "[22, 12, 3, 6]\n"
     ]
    }
   ],
   "source": [
    "l=[10, 22, 12, 3, 0, 6]\n",
    "leaders=list()\n",
    "for i in range(len(l)-1):\n",
    "    if l[i]>l[i+1]:\n",
    "        leaders.append(l[i])\n",
    "leaders.append(l[-1])\n",
    "print(leaders)"
   ]
  },
  {
   "cell_type": "code",
   "execution_count": 28,
   "id": "537c9525",
   "metadata": {},
   "outputs": [
    {
     "name": "stdout",
     "output_type": "stream",
     "text": [
      "[22, 12, 6]\n"
     ]
    }
   ],
   "source": [
    "l=[10, 22, 12, 3, 0, 6]\n",
    "leaders=list()\n",
    "for i in range(len(l)-1):\n",
    "    rightl=l[(i+1):]\n",
    "    rightl.sort()\n",
    "    if l[i]>(rightl[-1]):\n",
    "        leaders.append(l[i])\n",
    "leaders.append(l[-1])\n",
    "print(leaders)"
   ]
  },
  {
   "cell_type": "code",
   "execution_count": null,
   "id": "1af3f992",
   "metadata": {},
   "outputs": [],
   "source": [
    "l=[[1,2,3],[4,5,6],[7,8,9]]\n",
    "for i in l:\n",
    "    for j in i:\n",
    "        pass"
   ]
  }
 ],
 "metadata": {
  "kernelspec": {
   "display_name": "Python 3",
   "language": "python",
   "name": "python3"
  },
  "language_info": {
   "codemirror_mode": {
    "name": "ipython",
    "version": 3
   },
   "file_extension": ".py",
   "mimetype": "text/x-python",
   "name": "python",
   "nbconvert_exporter": "python",
   "pygments_lexer": "ipython3",
   "version": "3.10.8"
  }
 },
 "nbformat": 4,
 "nbformat_minor": 5
}
