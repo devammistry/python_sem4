{
 "cells": [
  {
   "cell_type": "code",
   "execution_count": null,
   "metadata": {},
   "outputs": [],
   "source": [
    "%%writefile serverPB.py\n",
    "import socket\n",
    "host=socket.gethostname()\n",
    "port=6700\n",
    "server_socket=socket.socket(type=socket.SOCK_DGRAM)\n",
    "server_socket.bind((host, port))\n",
    "print(f\"UDP server listening on {host}:{port}\")\n",
    "while True:\n",
    "    data, addr=server_socket.recvfrom(1024)\n",
    "    print(addr)\n",
    "    print(data)\n",
    "    try:\n",
    "        number=int(data.decode())\n",
    "        squared=number**2\n",
    "        response=str(squared)\n",
    "    except valueError:\n",
    "        response=\"invalid number received\"\n",
    "    server_socket.sendto(response.encode(), addr)    "
   ]
  },
  {
   "cell_type": "code",
   "execution_count": null,
   "metadata": {},
   "outputs": [],
   "source": [
    "%%writefile clientPB.py\n",
    "import socket\n",
    "host=socket.gethostname()\n",
    "port=6700\n",
    "client_socket=socket.socket(type=socket.SOCK_DGRAM)\n",
    "while True:\n",
    "    number=input(\"Enter no.:\")\n",
    "    client_socket.sendto(number.encode(), (host, port))\n",
    "    data, kl=client_socket.recvfrom(1024)\n",
    "    print(\"Received from server:\", data.decode())"
   ]
  },
  {
   "cell_type": "code",
   "execution_count": null,
   "metadata": {},
   "outputs": [],
   "source": [
    "import socket\n",
    "mysock=socket.socket()\n",
    "mysock.connect((\"data.pr4e.org\", 80))\n",
    "cmd=\"GET http://data.pr4e.org/romeo.txt HTTP/1.0\\r\\n\\r\\n\".encode()\n",
    "mysock.send(cmd)\n",
    "while True:\n",
    "    data=mysock.recv(512)\n",
    "    if len(data)<1:\n",
    "        break\n",
    "    print(data.decode(), end=\" \")\n",
    "mysock.close()"
   ]
  },
  {
   "cell_type": "code",
   "execution_count": null,
   "metadata": {},
   "outputs": [
    {
     "name": "stdout",
     "output_type": "stream",
     "text": [
      "Access http://localhost:7500\n",
      "GET / HTTP/1.1\n",
      "Host: localhost:7500\n",
      "Connection: keep-alive\n",
      "sec-ch-ua: \"Google Chrome\";v=\"137\", \"Chromium\";v=\"137\", \"Not/A)Brand\";v=\"24\"\n",
      "sec-ch-ua-mobile: ?0\n",
      "sec-ch-ua-platform: \"Windows\"\n",
      "Upgrade-Insecure-Requests: 1\n",
      "User-Agent: Mozilla/5.0 (Windows NT 10.0; Win64; x64) AppleWebKit/537.36 (KHTML, like Gecko) Chrome/137.0.0.0 Safari/537.36\n",
      "Accept: text/html,application/xhtml+xml,application/xml;q=0.9,image/avif,image/webp,image/apng,*/*;q=0.8,application/signed-exchange;v=b3;q=0.7\n",
      "Sec-Fetch-Site: same-site\n",
      "Sec-Fetch-Mode: navigate\n",
      "Sec-Fetch-User: ?1\n",
      "Sec-Fetch-Dest: document\n",
      "Referer: http://localhost:8888/\n",
      "Accept-Encoding: gzip, deflate, br, zstd\n",
      "Accept-Language: en-US,en;q=0.9\n",
      "Cookie: _xsrf=2|eef222ba|cbc17fa20f6d15c69021d0261345d3a7|1748488913; username-localhost-8888=\"2|1:0|10:1749007382|23:username-localhost-8888|44:NjM4MWRhNjM5NzcwNDhhY2EyYzE5ZjA5ODg1NGE4MGE=|67a0a0e7a4ec5be959e5ee9f58230a68a38b202015edc5b23c7af1b183385377\"\n",
      "\n",
      "\n",
      "GET /favicon.ico HTTP/1.1\n",
      "Host: localhost:7500\n",
      "Connection: keep-alive\n",
      "sec-ch-ua-platform: \"Windows\"\n",
      "User-Agent: Mozilla/5.0 (Windows NT 10.0; Win64; x64) AppleWebKit/537.36 (KHTML, like Gecko) Chrome/137.0.0.0 Safari/537.36\n",
      "sec-ch-ua: \"Google Chrome\";v=\"137\", \"Chromium\";v=\"137\", \"Not/A)Brand\";v=\"24\"\n",
      "sec-ch-ua-mobile: ?0\n",
      "Accept: image/avif,image/webp,image/apng,image/svg+xml,image/*,*/*;q=0.8\n",
      "Sec-Fetch-Site: same-origin\n",
      "Sec-Fetch-Mode: no-cors\n",
      "Sec-Fetch-Dest: image\n",
      "Referer: http://localhost:7500/\n",
      "Accept-Encoding: gzip, deflate, br, zstd\n",
      "Accept-Language: en-US,en;q=0.9\n",
      "Cookie: _xsrf=2|eef222ba|cbc17fa20f6d15c69021d0261345d3a7|1748488913; username-localhost-8888=\"2|1:0|10:1749007382|23:username-localhost-8888|44:NjM4MWRhNjM5NzcwNDhhY2EyYzE5ZjA5ODg1NGE4MGE=|67a0a0e7a4ec5be959e5ee9f58230a68a38b202015edc5b23c7af1b183385377\"\n",
      "\n",
      "\n",
      "\n"
     ]
    }
   ],
   "source": [
    "import socket\n",
    "def createServer():\n",
    "    serversocket = socket.socket()\n",
    "    serversocket.bind(('localhost',7500))\n",
    "    serversocket.listen()\n",
    "    while(1):\n",
    "        (clientsocket, address) = serversocket.accept()\n",
    "        rd = clientsocket.recv(5000).decode()\n",
    "        print(rd)\n",
    "        data = \"HTTP/1.1 200 OK\\r\\n\"\n",
    "        data += \"Content-Type: text/html; charset=utf-8\\r\\n\"\n",
    "        data += \"\\r\\n\"\n",
    "        data += \"<html><body>Hello World</body></html>\\r\\n\\r\\n\"\n",
    "        clientsocket.send(data.encode())\n",
    "    serversocket.close()\n",
    "print('Access http://localhost:7500')\n",
    "createServer()"
   ]
  },
  {
   "cell_type": "code",
   "execution_count": null,
   "metadata": {},
   "outputs": [],
   "source": []
  }
 ],
 "metadata": {
  "kernelspec": {
   "display_name": "Python 3",
   "language": "python",
   "name": "python3"
  },
  "language_info": {
   "codemirror_mode": {
    "name": "ipython",
    "version": 3
   },
   "file_extension": ".py",
   "mimetype": "text/x-python",
   "name": "python",
   "nbconvert_exporter": "python",
   "pygments_lexer": "ipython3",
   "version": "3.8.5"
  }
 },
 "nbformat": 4,
 "nbformat_minor": 4
}
