{
 "cells": [
  {
   "cell_type": "code",
   "execution_count": 14,
   "metadata": {},
   "outputs": [
    {
     "name": "stdout",
     "output_type": "stream",
     "text": [
      "Overwriting serverTCP.py\n"
     ]
    }
   ],
   "source": [
    "%%writefile serverTCP.py\n",
    "import socket\n",
    "host=socket.gethostname()\n",
    "port=3600\n",
    "server_socket=socket.socket()\n",
    "server_socket.bind((host, port))\n",
    "server_socket.listen()\n",
    "conn, addr=server_socket.accept()\n",
    "print(\"connection from\", str(addr))\n",
    "while True:\n",
    "    data=conn.recv(1024).decode()\n",
    "    if not data:\n",
    "        break\n",
    "    if int(data)==3:\n",
    "        data=str(9)\n",
    "    print(data)\n",
    "#     data=input(\"-\")\n",
    "    data=str(9)\n",
    "    conn.send(data.encode())\n",
    "conn.close()\n",
    "#274"
   ]
  },
  {
   "cell_type": "code",
   "execution_count": 15,
   "metadata": {},
   "outputs": [
    {
     "name": "stdout",
     "output_type": "stream",
     "text": [
      "Overwriting clientTCP.py\n"
     ]
    }
   ],
   "source": [
    "%%writefile clientTCP.py\n",
    "import socket\n",
    "host=socket.gethostname()\n",
    "port=3600\n",
    "client_socket=socket.socket()\n",
    "client_socket.connect((host, port))\n",
    "message=input(\"-\")\n",
    "while message!=\" \":\n",
    "    client_socket.send(message.encode())\n",
    "    dat=client_socket.recv(1024).decode()\n",
    "    print(\"Received from server\", dat)\n",
    "    message=input(\"-\")\n",
    "client_socket.close()"
   ]
  },
  {
   "cell_type": "code",
   "execution_count": 16,
   "metadata": {},
   "outputs": [
    {
     "name": "stdout",
     "output_type": "stream",
     "text": [
      "Overwriting serverUDP.py\n"
     ]
    }
   ],
   "source": [
    "%%writefile serverUDP.py\n",
    "import socket\n",
    "host=socket.gethostname()\n",
    "port=5700\n",
    "udp_server=socket.socket(type=socket.SOCK_DGRAM)\n",
    "udp_server.bind((host, port))\n",
    "while True:\n",
    "    print(\"waiting for message\")\n",
    "    data, addr=udp_server.recvfrom(1024)\n",
    "    print(\"Received\", data.decode(), \"from\", addr)\n",
    "    msg=input(\"Enter msg:\")\n",
    "    udp_server.sendto(msg.encode(), addr)\n",
    "udp_server.close()"
   ]
  },
  {
   "cell_type": "code",
   "execution_count": 18,
   "metadata": {},
   "outputs": [
    {
     "name": "stdout",
     "output_type": "stream",
     "text": [
      "Overwriting clientUDP.py\n"
     ]
    }
   ],
   "source": [
    "%%writefile clientUDP.py\n",
    "import socket\n",
    "host=\"192.168.107.92\"\n",
    "port=5700\n",
    "udp_client=socket.socket(type=socket.SOCK_DGRAM)\n",
    "while True:\n",
    "    msg=input(\"Enter msg:\")\n",
    "    if not msg:\n",
    "        break\n",
    "    udp_client.sendto(msg.encode(), (host, port))\n",
    "    print(\"Ready to receive data\")\n",
    "    data, addr=udp_client.recvfrom(1024)\n",
    "    if not data:\n",
    "        break\n",
    "    print(\"Received\", data.decode())\n",
    "udp_client.close()"
   ]
  },
  {
   "cell_type": "code",
   "execution_count": null,
   "metadata": {},
   "outputs": [],
   "source": []
  }
 ],
 "metadata": {
  "kernelspec": {
   "display_name": "Python 3",
   "language": "python",
   "name": "python3"
  },
  "language_info": {
   "codemirror_mode": {
    "name": "ipython",
    "version": 3
   },
   "file_extension": ".py",
   "mimetype": "text/x-python",
   "name": "python",
   "nbconvert_exporter": "python",
   "pygments_lexer": "ipython3",
   "version": "3.8.5"
  }
 },
 "nbformat": 4,
 "nbformat_minor": 4
}
